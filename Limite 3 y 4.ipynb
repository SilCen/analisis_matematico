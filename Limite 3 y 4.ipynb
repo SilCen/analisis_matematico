{
 "cells": [
  {
   "cell_type": "markdown",
   "metadata": {},
   "source": [
    "3.- Pruebe que el límite de limx→4 (3x -7) = 5"
   ]
  },
  {
   "cell_type": "code",
   "execution_count": 10,
   "metadata": {},
   "outputs": [
    {
     "data": {
      "text/latex": [
       "$\\displaystyle \\lim_{x \\to 4^+}\\left(3 x - 7\\right)$"
      ],
      "text/plain": [
       " lim (3⋅x - 7)\n",
       "x─→4⁺         "
      ]
     },
     "execution_count": 10,
     "metadata": {},
     "output_type": "execute_result"
    }
   ],
   "source": [
    "import numpy as np\n",
    "from sympy import *\n",
    "from sympy.interactive import printing\n",
    "import math\n",
    "\n",
    "\n",
    "printing.init_printing(use_latex='mathjax')\n",
    "\n",
    "x=Symbol('x')\n",
    "y=3*x-7\n",
    "Limit(3*x-7,x,4)"
   ]
  },
  {
   "cell_type": "code",
   "execution_count": 11,
   "metadata": {},
   "outputs": [
    {
     "name": "stdout",
     "output_type": "stream",
     "text": [
      "El valor del límite de la función para x = 4 es:  5\n"
     ]
    }
   ],
   "source": [
    "r=Limit(3*x-7,x,4).doit()\n",
    "print(\"El valor del límite de la función para x = 4 es: \", r)"
   ]
  },
  {
   "cell_type": "markdown",
   "metadata": {},
   "source": [
    "4.- Pruebe qu el límite de limx→-2 (x2+7x+10)/x+2 = 10\n"
   ]
  },
  {
   "cell_type": "code",
   "execution_count": 12,
   "metadata": {},
   "outputs": [
    {
     "data": {
      "text/latex": [
       "$\\displaystyle \\lim_{x \\to -2^+}\\left(\\frac{x^{2} + 7 x + 10}{x + 2}\\right)$"
      ],
      "text/plain": [
       "      ⎛ 2           ⎞\n",
       "      ⎜x  + 7⋅x + 10⎟\n",
       " lim  ⎜─────────────⎟\n",
       "x─→-2⁺⎝    x + 2    ⎠"
      ]
     },
     "execution_count": 12,
     "metadata": {},
     "output_type": "execute_result"
    }
   ],
   "source": [
    "x=Symbol('x')\n",
    "y=(x**2+7*x+10)/(x+2)\n",
    "Limit((x**2+7*x+10)/(x+2),x,-2)"
   ]
  },
  {
   "cell_type": "code",
   "execution_count": 13,
   "metadata": {},
   "outputs": [
    {
     "name": "stdout",
     "output_type": "stream",
     "text": [
      "El valor del límite de la función para x = -2 es:  3\n"
     ]
    }
   ],
   "source": [
    "r=Limit((x**2+7*x+10)/(x+2),x,-2).doit()\n",
    "print(\"El valor del límite de la función para x = -2 es: \", r)"
   ]
  },
  {
   "cell_type": "markdown",
   "metadata": {},
   "source": [
    "No da = 10."
   ]
  },
  {
   "cell_type": "code",
   "execution_count": null,
   "metadata": {},
   "outputs": [],
   "source": []
  }
 ],
 "metadata": {
  "kernelspec": {
   "display_name": "Python 3",
   "language": "python",
   "name": "python3"
  },
  "language_info": {
   "codemirror_mode": {
    "name": "ipython",
    "version": 3
   },
   "file_extension": ".py",
   "mimetype": "text/x-python",
   "name": "python",
   "nbconvert_exporter": "python",
   "pygments_lexer": "ipython3",
   "version": "3.8.3"
  }
 },
 "nbformat": 4,
 "nbformat_minor": 4
}
