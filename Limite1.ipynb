{
 "cells": [
  {
   "cell_type": "code",
   "execution_count": 40,
   "metadata": {},
   "outputs": [
    {
     "data": {
      "text/latex": [
       "$\\displaystyle \\lim_{x \\to 1^+}\\left(\\frac{2 x + 1}{x - 3}\\right)$"
      ],
      "text/plain": [
       "     ⎛2⋅x + 1⎞\n",
       " lim ⎜───────⎟\n",
       "x─→1⁺⎝ x - 3 ⎠"
      ]
     },
     "execution_count": 40,
     "metadata": {},
     "output_type": "execute_result"
    }
   ],
   "source": [
    "import numpy as np\n",
    "from sympy import *\n",
    "from sympy.interactive import printing\n",
    "import math\n",
    "\n",
    "\n",
    "printing.init_printing(use_latex='mathjax')\n",
    "\n",
    "x=Symbol('x')\n",
    "y=(2*x+1)/(x-3)\n",
    "Limit((2*x+1)/(x-3),x,1, dir='+')"
   ]
  },
  {
   "cell_type": "code",
   "execution_count": 31,
   "metadata": {},
   "outputs": [
    {
     "data": {
      "text/latex": [
       "$\\displaystyle -1.50017500875044$"
      ],
      "text/plain": [
       "-1.50017500875044"
      ]
     },
     "execution_count": 31,
     "metadata": {},
     "output_type": "execute_result"
    }
   ],
   "source": [
    "Limit((2*x+1)/(x-3),x,1.0001).doit()"
   ]
  },
  {
   "cell_type": "markdown",
   "metadata": {},
   "source": [
    "Evaluamos el valor que toma la función cuando x -> 1, el valor de la función en el límite, ϵ y δ "
   ]
  },
  {
   "cell_type": "code",
   "execution_count": 39,
   "metadata": {},
   "outputs": [
    {
     "name": "stdout",
     "output_type": "stream",
     "text": [
      "Cuando x-> 1, el valor de la función es:  -1.50017500875044\n",
      "\n",
      "El valor del límite de la función es:  -1.5\n",
      "\n",
      "ϵ:  0.000175008750437744 > 0\n",
      "\n",
      "δ:  9.999999999998899e-05 > 0\n"
     ]
    }
   ],
   "source": [
    "fx=limit(y,x,1.0001)\n",
    "print(\"Cuando x-> 1, el valor de la función es: \", fx)\n",
    "L=-3/2\n",
    "print(\"\\nEl valor del límite de la función es: \", L)\n",
    "epsilon=math.fabs(fx-L)\n",
    "print(\"\\nϵ: \", epsilon, \"> 0\")\n",
    "delta=math.fabs(1.0001 - 1)\n",
    "print(\"\\nδ: \", delta, \"> 0\")"
   ]
  },
  {
   "cell_type": "code",
   "execution_count": null,
   "metadata": {},
   "outputs": [],
   "source": [
    "Se cumple que para a>1, ϵ>0 y existe un δ>0. Entonces calculamos para un entorno de un número menor que a=1"
   ]
  },
  {
   "cell_type": "code",
   "execution_count": 42,
   "metadata": {},
   "outputs": [
    {
     "data": {
      "text/latex": [
       "$\\displaystyle \\lim_{x \\to 1^-}\\left(\\frac{2 x + 1}{x - 3}\\right)$"
      ],
      "text/plain": [
       "     ⎛2⋅x + 1⎞\n",
       " lim ⎜───────⎟\n",
       "x─→1⁻⎝ x - 3 ⎠"
      ]
     },
     "execution_count": 42,
     "metadata": {},
     "output_type": "execute_result"
    }
   ],
   "source": [
    "x=Symbol('x')\n",
    "y=(2*x+1)/(x-3)\n",
    "Limit((2*x+1)/(x-3),x,1, dir='-')"
   ]
  },
  {
   "cell_type": "code",
   "execution_count": 44,
   "metadata": {},
   "outputs": [
    {
     "data": {
      "text/latex": [
       "$\\displaystyle -1.49982500874956$"
      ],
      "text/plain": [
       "-1.49982500874956"
      ]
     },
     "execution_count": 44,
     "metadata": {},
     "output_type": "execute_result"
    }
   ],
   "source": [
    "Limit((2*x+1)/(x-3),x,0.9999).doit()"
   ]
  },
  {
   "cell_type": "code",
   "execution_count": 43,
   "metadata": {},
   "outputs": [
    {
     "name": "stdout",
     "output_type": "stream",
     "text": [
      "Cuando x-> 1, el valor de la función es:  -1.49982500874956\n",
      "\n",
      "El valor del límite de la función es:  -1.5\n",
      "\n",
      "ϵ:  0.00017499125043740626 > 0\n",
      "\n",
      "δ:  9.999999999998899e-05 > 0\n"
     ]
    }
   ],
   "source": [
    "fx=limit(y,x,0.9999)\n",
    "print(\"Cuando x-> 1, el valor de la función es: \", fx)\n",
    "L=-3/2\n",
    "print(\"\\nEl valor del límite de la función es: \", L)\n",
    "epsilon=math.fabs(fx-L)\n",
    "print(\"\\nϵ: \", epsilon, \"> 0\")\n",
    "delta=math.fabs(1.0001 - 1)\n",
    "print(\"\\nδ: \", delta, \"> 0\")"
   ]
  },
  {
   "cell_type": "code",
   "execution_count": null,
   "metadata": {},
   "outputs": [],
   "source": [
    "Se cumple que para a<1, ϵ>0 y existe un δ>0."
   ]
  },
  {
   "cell_type": "code",
   "execution_count": null,
   "metadata": {},
   "outputs": [],
   "source": [
    "Por lo que queda demostrado que el límite de la función dada, para x-> 1, es igual a -3/2"
   ]
  },
  {
   "cell_type": "code",
   "execution_count": null,
   "metadata": {},
   "outputs": [],
   "source": []
  }
 ],
 "metadata": {
  "kernelspec": {
   "display_name": "Python 3",
   "language": "python",
   "name": "python3"
  },
  "language_info": {
   "codemirror_mode": {
    "name": "ipython",
    "version": 3
   },
   "file_extension": ".py",
   "mimetype": "text/x-python",
   "name": "python",
   "nbconvert_exporter": "python",
   "pygments_lexer": "ipython3",
   "version": "3.8.3"
  }
 },
 "nbformat": 4,
 "nbformat_minor": 4
}
